{
 "cells": [
  {
   "cell_type": "code",
   "execution_count": null,
   "id": "3731c742",
   "metadata": {},
   "outputs": [],
   "source": [
    "from my_functions import *"
   ]
  },
  {
   "cell_type": "code",
   "execution_count": null,
   "id": "f7a2f295",
   "metadata": {},
   "outputs": [],
   "source": [
    "df = csv_to_df(\"train.csv\")"
   ]
  },
  {
   "cell_type": "code",
   "execution_count": null,
   "id": "831e4f16",
   "metadata": {},
   "outputs": [],
   "source": [
    "print(df.head())"
   ]
  }
 ],
 "metadata": {},
 "nbformat": 4,
 "nbformat_minor": 5
}
