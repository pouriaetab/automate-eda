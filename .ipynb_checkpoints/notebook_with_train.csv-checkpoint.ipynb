{
 "cells": [
  {
   "cell_type": "code",
   "execution_count": null,
   "id": "0b94c3ce",
   "metadata": {},
   "outputs": [],
   "source": [
    "import my_functions"
   ]
  },
  {
   "cell_type": "code",
   "execution_count": null,
   "id": "88429054",
   "metadata": {},
   "outputs": [],
   "source": [
    "my_functions.function_one()"
   ]
  },
  {
   "cell_type": "code",
   "execution_count": null,
   "id": "92ee1c74",
   "metadata": {},
   "outputs": [],
   "source": [
    "my_functions.function_two()"
   ]
  }
 ],
 "metadata": {},
 "nbformat": 4,
 "nbformat_minor": 5
}
